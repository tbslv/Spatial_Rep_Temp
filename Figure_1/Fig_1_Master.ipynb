{
 "cells": [
  {
   "cell_type": "code",
   "execution_count": null,
   "id": "3e2c612c",
   "metadata": {},
   "outputs": [],
   "source": [
    "from fig_1_151024 import *\n",
    "\n",
    "params=fig_1()\n"
   ]
  },
  {
   "cell_type": "code",
   "execution_count": null,
   "id": "834cb9dc",
   "metadata": {},
   "outputs": [],
   "source": [
    "params.rasters_raw=fig_1.load_data(params,raster=True)\n",
    "params.pop_stats_raw=pd.read_csv(\n",
    "    r\"D:\\Reduced_Datasets_v1\\figures\\data\\pop_stats_raw_2nd_derv_new_class_V11_130423.csv\")"
   ]
  },
  {
   "cell_type": "code",
   "execution_count": null,
   "id": "945fadd8",
   "metadata": {},
   "outputs": [],
   "source": [
    "# define  plot params \n",
    "plt.style.use('default')\n",
    "rcParams['font.family'] = 'Arial'\n",
    "rcParams['axes.linewidth'] = .5\n",
    "rcParams['lines.linewidth'] = .5\n",
    "rcParams['font.size'] = 7\n",
    "rcParams['figure.dpi'] = 300\n",
    "rcParams['xtick.labelsize']=7\n",
    "rcParams['ytick.labelsize']=7\n",
    "rcParams[\"errorbar.capsize\"]=3\n",
    "rcParams['xtick.major.width']=.5\n",
    "rcParams[\"xtick.minor.width\"]=.5\n",
    "rcParams['ytick.major.width']=.5\n",
    "rcParams[\"ytick.minor.width\"]=.5\n",
    "\n",
    "\n"
   ]
  },
  {
   "cell_type": "code",
   "execution_count": null,
   "id": "79bc9d00",
   "metadata": {},
   "outputs": [],
   "source": [
    "pop_stats_all2=params.pop_stats_raw.loc[#(params.pop_stats_raw.ctype2.isin(['cold','cold/warm','warm']))\n",
    "                        (params.pop_stats_raw.stimtemp=='22.0')\n",
    "                        &(params.pop_stats_raw.ROI.isin(['VPL','PO','PoT']))\n",
    "                        &(params.pop_stats_raw.waveforms=='clean')\n",
    "                        &(params.pop_stats_raw.quality=='good')\n",
    "                        &(params.pop_stats_raw.ctype2.isin(['cold','cold/warm','warm']))\n",
    "                        &(~params.pop_stats_raw.animal_id.isin(params.outlier))\n",
    "                        &(params.pop_stats_raw.functional_classification=='putative_RS')]"
   ]
  },
  {
   "cell_type": "code",
   "execution_count": null,
   "id": "2782eee8",
   "metadata": {},
   "outputs": [],
   "source": [
    "fig,ax=plt.subplots(figsize=(1.5,0.25))\n",
    "sns.histplot(data=pop_stats_all2,y='quality',hue='ctype2',multiple='fill',\n",
    "            hue_order=['warm','cold/warm','cold'][::-1],\n",
    "            palette=[params.red,'#AD7748',params.blue][::-1],shrink=.75,\n",
    "            legend=False,lw=.5)\n",
    "\n",
    "ax.set_ylabel('')\n",
    "ax.set_yticks([])\n",
    "ax.set_xticks([0,.25,.5,.75,1])\n",
    "ax.set_xticklabels([0,25,50,75,100])\n",
    "ax.set_xlabel('Proportion (%)')\n",
    "sns.despine(fig)\n",
    "#plt.tight_layout()\n",
    "\n",
    "#plt.savefig(r'D:\\Reduced_Datasets_v1\\Thesis\\Fig_1\\thermal_types_full.svg',format='svg')"
   ]
  },
  {
   "cell_type": "code",
   "execution_count": null,
   "id": "82f8404c",
   "metadata": {},
   "outputs": [],
   "source": [
    "data_cold_smooth,colors_cold, data_warm_smooth,colors_warm = fig_1.make_data_heatmaps(\n",
    "     params)"
   ]
  },
  {
   "cell_type": "code",
   "execution_count": null,
   "id": "1fd70f16",
   "metadata": {},
   "outputs": [],
   "source": [
    "temp_traces_name = 'temp_traces.npy'\n",
    "\n",
    "temp_traces_raw = merge_data(params.search_dir,os.listdir(params.search_dir)[:1] ,temp_traces_name)\n",
    "\n",
    "cold_trace =  (temp_traces_raw[0,:] - 0.2926)*17.0898\n",
    "warm_trace = (temp_traces_raw[10,:] - 0.2926)*17.0898"
   ]
  },
  {
   "cell_type": "code",
   "execution_count": null,
   "id": "c5489f4d",
   "metadata": {},
   "outputs": [],
   "source": [
    "fig_1.plot_heatmaps(params, cold_trace, warm_trace, data_cold_smooth, data_warm_smooth, colors_cold, colors_warm,\n",
    "                 start_time=8,end_time=16,stim_start=9,stim_duration=2)"
   ]
  },
  {
   "cell_type": "code",
   "execution_count": null,
   "id": "ab4ede7a",
   "metadata": {},
   "outputs": [],
   "source": [
    "processed_data = fig_1.make_data_frs(params)\n",
    "\n",
    "\n",
    "fig,ax=plt.subplots(figsize=(.75,.75))\n",
    "sns.pointplot(data=processed_data,x='base_corr',y='stimtemp',palette=[params.blue,'#AD7748',params.red],\n",
    "             ax=ax,hue='new_type',dodge=.5,hue_order=['cold','cold/warm','warm'],\n",
    "              estimator=np.median,errorbar=('pi',50),scale=1.5,join=False,order=['42.0','22.0'][::])\n",
    "\n",
    "plt.legend([],[], frameon=False)\n",
    "ax.set_ylabel('T. (°C)')\n",
    "ax.set_xlabel('Firirng rate (Hz)')\n",
    "ax.set_xticks([0,10,20])\n",
    "ax.set_yticklabels([42,22])\n",
    "ax.set_xlim(0,25)\n",
    "ax.axhline(0.5,lw=.5,ls=':',color='black')\n",
    "#ax.set_title('sig. cold respone',fontsize=7)\n",
    "sns.despine()\n",
    "#plt.savefig(r'D:\\Reduced_processed_datasets_v1\\Thesis\\Fig_1\\frs.svg',format='svg')"
   ]
  },
  {
   "cell_type": "code",
   "execution_count": null,
   "id": "90c18cd1",
   "metadata": {},
   "outputs": [],
   "source": []
  },
  {
   "cell_type": "code",
   "execution_count": null,
   "id": "911a70f1",
   "metadata": {},
   "outputs": [],
   "source": [
    "processed_data = fig_1.make_data_fractions(params)\n",
    "\n",
    "fig,ax_list=plt.subplots(1,1,figsize=(0.75,.75))\n",
    "ax=ax_list\n",
    "sns.histplot(data=processed_data,y='stimtemp',hue='new_type',multiple='fill',\n",
    "            legend=False,ax=ax,palette=[params.blue,params.red,'#AD7748'],hue_order=['cold','warm','cold/warm'],\n",
    "            lw=.5,shrink = 0.75)\n",
    "\n",
    "ax.set_ylabel('T. (°C)')\n",
    "ax.set_xlabel('Proportion (%)')\n",
    "ax.set_xticks([0,.25,.5,.75,1])\n",
    "ax.set_xticklabels(['0','','50','','100'])\n",
    "ax.set_yticklabels([22,42])\n",
    "ax.set_ylim(-.75,1.75)\n",
    "#ax.set_title('Cold Response',fontsize=7)\n",
    "\n",
    "sns.despine()\n",
    "#plt.savefig(r'D:\\Reduced_Datasets_v1\\Thesis\\Fig_1\\types.svg',format='svg')"
   ]
  },
  {
   "cell_type": "code",
   "execution_count": null,
   "id": "56a466a4",
   "metadata": {
    "scrolled": false
   },
   "outputs": [],
   "source": [
    "fig_1.plot_SU_examples(params, indices=[53, 95,383,539], \n",
    "                 trials=25, sweeplength=20, samplingrate=30000, \n",
    "                 binsize=1, sigma=30, save_path=None)\n"
   ]
  },
  {
   "cell_type": "code",
   "execution_count": null,
   "id": "594407fd",
   "metadata": {},
   "outputs": [],
   "source": [
    "%run \"C:\\Users\\tobiasleva\\Desktop\\Publication_v1\\Location\\Probes_BR3.py\""
   ]
  },
  {
   "cell_type": "code",
   "execution_count": null,
   "id": "4136e983",
   "metadata": {},
   "outputs": [],
   "source": []
  }
 ],
 "metadata": {
  "kernelspec": {
   "display_name": "Python 3 (ipykernel)",
   "language": "python",
   "name": "python3"
  },
  "language_info": {
   "codemirror_mode": {
    "name": "ipython",
    "version": 3
   },
   "file_extension": ".py",
   "mimetype": "text/x-python",
   "name": "python",
   "nbconvert_exporter": "python",
   "pygments_lexer": "ipython3",
   "version": "3.7.13"
  }
 },
 "nbformat": 4,
 "nbformat_minor": 5
}
